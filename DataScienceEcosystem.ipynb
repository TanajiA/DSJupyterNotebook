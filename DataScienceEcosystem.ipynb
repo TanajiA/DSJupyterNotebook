{
 "cells": [
  {
   "cell_type": "markdown",
   "id": "1fa4926a-5954-4157-8c7a-45fea6ae598c",
   "metadata": {},
   "source": [
    "# Data Science Tools and Ecosystem"
   ]
  },
  {
   "cell_type": "markdown",
   "id": "95a52b19-aeb9-4d7a-a085-79f6beb7fa8a",
   "metadata": {},
   "source": [
    "In this notebook, Data Science Tools and Ecosystem are summarized."
   ]
  },
  {
   "cell_type": "markdown",
   "id": "320a1950-886d-4564-a212-7a8871fb784f",
   "metadata": {},
   "source": [
    "**Objectives:**\n",
    "- List popular languages for Data Science.\n",
    "- List commonly used libraries by Data Scientists.\n",
    "- List Data Science Tools in a markdown cell table.\n",
    "- Conduct some arithmetic expressions."
   ]
  },
  {
   "cell_type": "markdown",
   "id": "430685b6-c2ec-41fc-9f3e-06a98756eb57",
   "metadata": {},
   "source": [
    "Some of the popular languages that Data Scientists use are:\n",
    "1. Python.\n",
    "2. R.\n",
    "3. Julia.\n",
    "4. JavaScript.\n",
    "5. Scala."
   ]
  },
  {
   "cell_type": "markdown",
   "id": "417793f1-7181-487c-a58c-da3133fc3a7e",
   "metadata": {},
   "source": [
    "Some commonly used libraries by Data Scientists include:\n",
    "1. Scrapy\n",
    "2. Pandas\n",
    "3. NumPy\n",
    "4. Scikit-Learn\n",
    "5. Matplotlib"
   ]
  },
  {
   "cell_type": "markdown",
   "id": "f4007515-e515-4c27-85f6-236061d3ef10",
   "metadata": {
    "jp-MarkdownHeadingCollapsed": true
   },
   "source": [
    "| Data Science Tools |\n",
    "----------------------\n",
    "| Anaconda |\n",
    "| Jupyter Notebooks |\n",
    "| RStudio |\n"
   ]
  },
  {
   "cell_type": "markdown",
   "id": "1078f307-6ff0-4886-80c7-4aee03ecfcb9",
   "metadata": {},
   "source": [
    "### Below are a few examples of evaluating arithmetic expressions in Python."
   ]
  },
  {
   "cell_type": "code",
   "execution_count": 36,
   "id": "4f9546af-d8ad-4c7c-9fea-46502ac959c9",
   "metadata": {},
   "outputs": [
    {
     "data": {
      "text/plain": [
       "17"
      ]
     },
     "execution_count": 36,
     "metadata": {},
     "output_type": "execute_result"
    }
   ],
   "source": [
    "#Exercise 8 - Create a code cell to multiply and add numbers\n",
    "#This a simple arithmetic expression to mutiply then add integers\n",
    "\n",
    "(3*4)+5"
   ]
  },
  {
   "cell_type": "code",
   "execution_count": 52,
   "id": "29524028-4190-4381-a41a-5aaf2780f8d8",
   "metadata": {},
   "outputs": [
    {
     "name": "stdout",
     "output_type": "stream",
     "text": [
      "200 minutes is equivelent to 3 hours.\n"
     ]
    }
   ],
   "source": [
    "#Exercise 9 - Create a code cell to convert minutes to hours\n",
    "#This will convert 200 minutes to hours by diving by 60.\n",
    "\n",
    "m= 200/60\n",
    "print (\"200 minutes is equivelent to \" + str(round(m)) + \" hours.\")"
   ]
  },
  {
   "cell_type": "markdown",
   "id": "b5a37d74-f177-4e19-b6d8-de60be0776b8",
   "metadata": {},
   "source": [
    "## Author\n",
    "Tanaji A"
   ]
  },
  {
   "cell_type": "code",
   "execution_count": null,
   "id": "da730416-4c46-40f4-99cf-06a24d7246c7",
   "metadata": {},
   "outputs": [],
   "source": []
  }
 ],
 "metadata": {
  "kernelspec": {
   "display_name": "Python 3 (ipykernel)",
   "language": "python",
   "name": "python3"
  },
  "language_info": {
   "codemirror_mode": {
    "name": "ipython",
    "version": 3
   },
   "file_extension": ".py",
   "mimetype": "text/x-python",
   "name": "python",
   "nbconvert_exporter": "python",
   "pygments_lexer": "ipython3",
   "version": "3.12.4"
  }
 },
 "nbformat": 4,
 "nbformat_minor": 5
}
